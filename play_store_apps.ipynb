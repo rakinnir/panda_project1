{
 "cells": [
  {
   "cell_type": "code",
   "execution_count": 46,
   "id": "42b06877-280a-4ade-80ed-ae78f74016df",
   "metadata": {},
   "outputs": [
    {
     "name": "stdout",
     "output_type": "stream",
     "text": [
      "[ 2.80071758e-06 -2.52064583e-04 -1.37411843e-01  1.67084397e+01\n",
      " -4.63264876e-07  5.70458997e-04 -1.54684838e-01  1.62247959e+01\n",
      " -1.47851615e-07  3.28221613e-04 -1.39181645e-01  1.75477350e+01\n",
      " -6.75400018e-08  1.75468925e-04 -1.14970344e-01  2.26643899e+01]\n"
     ]
    }
   ],
   "source": [
    "import numpy as np\n",
    "\n",
    "# Define a 16x16 coefficient matrix A and a 16-element right-hand side vector b\n",
    "A = np.array([\n",
    "    [3375, 225, 15, 1, 0, 0, 0, 0, 0, 0, 0, 0, 0, 0, 0, 0],\n",
    "    [0, 0, 0, 0, 74088, 1764, 42, 1, 0, 0, 0, 0, 0, 0, 0, 0],\n",
    "    [0, 0, 0, 0, 0, 0, 0, 0, 128**3, 128**2, 128, 1, 0, 0, 0, 0],\n",
    "    [0, 0, 0, 0, 0, 0, 0, 0, 0, 0, 0, 0, 317**3, 317**2, 317, 1],\n",
    "    [42**3, 42**2, 42, 1, 0, 0, 0, 0, 0, 0, 0, 0, 0, 0, 0, 0],\n",
    "    [0, 0, 0, 0, 128**3, 128**2, 128, 1, 0, 0, 0, 0, 0, 0, 0, 0],\n",
    "    [0, 0, 0, 0, 0, 0, 0, 0, 317**3, 317**2, 317, 1, 0, 0, 0, 0],\n",
    "    [0, 0, 0, 0, 0, 0, 0, 0, 0, 0, 0, 0, 431**3, 431**2, 431, 1],\n",
    "    [5292, 42, 1, 0, -5292, -42, -1, 0, 0, 0, 0, 0, 0, 0, 0, 0],\n",
    "    [0, 0, 0, 0, 49152, 128, 1, 0, -49152, -128, -1, 0, 0, 0, 0, 0],\n",
    "    [0, 0, 0, 0, 0, 0, 0, 0, 301467, 317, 1, 0, -301467, -317, -1, 0],\n",
    "    [252, 1, 0, 0, -252, -1, 0, 0, 0, 0, 0, 0, 0, 0, 0, 0],\n",
    "    [0, 0, 0, 0, 768, 1, 0, 0,-768, -1, 0, 0, 0, 0, 0, 0],\n",
    "    [0, 0, 0, 0, 0, 0, 0, 0, 1902, 1, 0, 0, -1902, -1, 0, 0],\n",
    "    [90, 1, 0, 0, 0, 0, 0, 0, 0, 0, 0, 0, 0, 0, 0, 0],\n",
    "    [0, 0, 0, 0, 0, 0, 0, 0, 0, 0, 0, 0, 2598, 1, 0, 0]\n",
    "])\n",
    "\n",
    "\n",
    "B = np.array([14.6,10.7,4.8,1.7,10.7,4.8,1.7,0.3,0,0,0,0,0,0,0,0])\n",
    "\n",
    "inverse_of_A=np.linalg.inv(A)\n",
    "result=np.dot(inverse_of_A,B\n",
    "             )\n",
    "print(result)\n",
    "\n"
   ]
  },
  {
   "cell_type": "code",
   "execution_count": 47,
   "id": "cbd4d950-b0f4-4474-83e5-49d7ed48bf48",
   "metadata": {},
   "outputs": [
    {
     "data": {
      "text/plain": [
       "<matplotlib.collections.PathCollection at 0x1a7642f3340>"
      ]
     },
     "execution_count": 47,
     "metadata": {},
     "output_type": "execute_result"
    },
    {
     "data": {
      "image/png": "[encoded data removed]",
      "text/plain": [
       "<Figure size 640x480 with 1 Axes>"
      ]
     },
     "metadata": {},
     "output_type": "display_data"
    }
   ],
   "source": [
    "import matplotlib.pyplot as plt\n",
    "import numpy as np\n",
    "\n",
    "threshold=1e-10\n",
    "result=np.where(np.abs(result) < threshold , 0, result)\n",
    "\n",
    "plt.scatter(result,B)\n"
   ]
  },
  {
   "cell_type": "code",
   "execution_count": null,
   "id": "6ecec310-5fb4-46c2-af4a-682eef15dede",
   "metadata": {},
   "outputs": [],
   "source": []
  }
 ],
 "metadata": {
  "kernelspec": {
   "display_name": "Python 3 (ipykernel)",
   "language": "python",
   "name": "python3"
  },
  "language_info": {
   "codemirror_mode": {
    "name": "ipython",
    "version": 3
   },
   "file_extension": ".py",
   "mimetype": "text/x-python",
   "name": "python",
   "nbconvert_exporter": "python",
   "pygments_lexer": "ipython3",
   "version": "3.8.17"
  }
 },
 "nbformat": 4,
 "nbformat_minor": 5
}
